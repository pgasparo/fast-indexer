{
 "cells": [
  {
   "cell_type": "code",
   "execution_count": 1,
   "id": "35effeb3-0e6b-45db-959b-fca945c00eb2",
   "metadata": {},
   "outputs": [],
   "source": [
    "#importing necessary libraries\n",
    "from tqdm import tqdm\n",
    "import h5py\n",
    "import numpy as np\n",
    "import math\n",
    "\n",
    "import warnings\n",
    "warnings.filterwarnings('ignore')\n",
    "warnings.simplefilter('ignore')\n",
    "import matplotlib.pyplot as plt"
   ]
  },
  {
   "cell_type": "markdown",
   "id": "d12ed060-6a4f-4a94-aa73-a71ee324f44b",
   "metadata": {},
   "source": [
    "# Read the spotlists from a file"
   ]
  },
  {
   "cell_type": "code",
   "execution_count": 3,
   "id": "cb5b44d3-c482-49a5-8460-ae04d2d5545b",
   "metadata": {},
   "outputs": [],
   "source": [
    "# Decomment to install crystfelparser\n",
    "\n",
    "# ! git clone https://github.com/pgasparo/crystfelparser.git\n",
    "# ! cd crystfelparser && pip install .\n",
    "# !rm -rf crystfelparser\n",
    "\n",
    "from crystfelparser.crystfelparser import stream_to_dictionary\n",
    "from crystfelparser.utils import load_dict_from_hdf5"
   ]
  },
  {
   "cell_type": "code",
   "execution_count": 4,
   "id": "0f19f1d9-11db-428c-968d-f6be959341df",
   "metadata": {},
   "outputs": [
    {
     "data": {
      "text/plain": [
       "array([ 118,  119,  120, ..., 9997, 9998, 9999])"
      ]
     },
     "execution_count": 4,
     "metadata": {},
     "output_type": "execute_result"
    }
   ],
   "source": [
    "parsed=stream_to_dictionary(\"lyso_5_1000Hz_dtz170_data_000049.th5.snr5.0.mpixco1.mpeaks8.stream\")\n",
    "\n",
    "indexableframes=np.array(sorted([FR for FR in parsed.keys() if len(parsed[FR].keys())>7]))\n",
    "indexableframes"
   ]
  },
  {
   "cell_type": "code",
   "execution_count": 6,
   "id": "26124b41-2c03-498e-bb62-6dba627c1532",
   "metadata": {},
   "outputs": [
    {
     "data": {
      "text/plain": [
       "0.3938"
      ]
     },
     "execution_count": 6,
     "metadata": {},
     "output_type": "execute_result"
    }
   ],
   "source": [
    "# ratio of indexable frames\n",
    "len(indexableframes)/len(parsed)"
   ]
  },
  {
   "cell_type": "markdown",
   "id": "b0169877-8aca-41b5-97bc-978493dc4865",
   "metadata": {},
   "source": [
    "# Some functions"
   ]
  },
  {
   "cell_type": "code",
   "execution_count": 31,
   "id": "3d71fa83-ff61-4642-90b8-ca518549fc6c",
   "metadata": {},
   "outputs": [],
   "source": [
    "def rodrigues(h,phi,rot_ax):\n",
    "    import numpy as np\n",
    "    \n",
    "    cp=np.cos(phi)\n",
    "    sp=np.sin(phi)\n",
    "    omcp=1.-cp\n",
    "    \n",
    "    rot_h=np.zeros(3)\n",
    "    \n",
    "    rot_h[0] = (cp+rot_ax[0]**2*omcp)*h[0] + \\\n",
    "               (-rot_ax[2]*sp+rot_ax[0]*rot_ax[1]*omcp)*h[1] + \\\n",
    "               ( rot_ax[1]*sp+rot_ax[0]*rot_ax[2]*omcp)*h[2]\n",
    "    rot_h[1] = ( rot_ax[2]*sp+rot_ax[0]*rot_ax[1]*omcp)*h[0] + \\\n",
    "               ( cp+rot_ax[1]**2*omcp)*h[1] + \\\n",
    "               (-rot_ax[0]*sp + rot_ax[1]*rot_ax[2]*omcp)*h[2]\n",
    "    rot_h[2] = (-rot_ax[1]*sp+rot_ax[0]*rot_ax[2]*omcp)*h[0] + \\\n",
    "               ( rot_ax[1]*sp+rot_ax[1]*rot_ax[2]*omcp)*h[1] + \\\n",
    "               ( cp+rot_ax[2]**2*omcp)*h[2]\n",
    "    \n",
    "    return rot_h\n",
    "\n",
    "\n",
    "def map_3D(spotslist,\n",
    "           wavelength=0.999857,\n",
    "           incident_beam=np.asarray([0.,0.,1.]),\n",
    "           # size of the panel\n",
    "           nx=4148,      \n",
    "           ny=4362,\n",
    "           # size of the pixels\n",
    "           qx=0.075000,    \n",
    "           qy=0.075000,\n",
    "           orgx=2120.750488,\n",
    "           orgy=2146.885498,\n",
    "           det_dist=300.0,\n",
    "           det_x=np.asarray([1.0,0.0,0.0]),\n",
    "           det_y=np.asarray([0.0,1.0,0.0]),\n",
    "           resolmax=0.1,\n",
    "           resolmin=999,\n",
    "           starting_angle=0,\n",
    "           oscillation_range=0.0,\n",
    "           rot_ax=np.asarray([1.000000,0.,0.])\n",
    "          ):\n",
    "    \n",
    "    import numpy as np\n",
    "    \n",
    "    det_z=np.zeros(3)\n",
    "    # comput z in case x,y are not perpendicular to the beam\n",
    "    det_z[0]=det_x[1]*det_y[2]-det_x[2]*det_y[1] # calculate detector normal -\n",
    "    det_z[1]=det_x[2]*det_y[0]-det_x[0]*det_y[2] # XDS.INP does not have\n",
    "    det_z[2]=det_x[0]*det_y[1]-det_x[1]*det_y[0] # this item.\n",
    "    det_z = det_z/np.sqrt(np.dot(det_z,det_z))   # normalize (usually not req'd)\n",
    "    \n",
    "    spots=[]\n",
    "\n",
    "    for line in spotslist:\n",
    "        (ih,ik,il)=(0.,0.,0.)\n",
    "        if len(line)==4:\n",
    "            (x,y,phi,intensity)=line\n",
    "        elif len(line)==7:\n",
    "            (x,y,phi,intensity,ih,ik,il)=line\n",
    "        elif len(line)==3:\n",
    "            (x,y,intensity)=line\n",
    "            phi=0.0\n",
    "        else:\n",
    "            (x,y)=line\n",
    "            phi=0.0\n",
    "            intensity=0.0\n",
    "    \n",
    "        # convert detector coordinates to local coordinate system\n",
    "        r= np.asarray([\n",
    "            (x-orgx)*qx*det_x[0] + (y-orgy)*qy*det_y[0] +det_dist*det_z[0],\n",
    "            (x-orgx)*qx*det_x[1] + (y-orgy)*qy*det_y[1] +det_dist*det_z[1],\n",
    "            (x-orgx)*qx*det_x[2] + (y-orgy)*qy*det_y[2] +det_dist*det_z[2],\n",
    "        ])\n",
    "    \n",
    "    \n",
    "        # normalize scattered vector to obtain S1\n",
    "        r=r/(wavelength*np.sqrt(np.dot(r,r)))\n",
    "        # obtain reciprocal space vector S = S1-S0\n",
    "        r=r-incident_beam\n",
    "    \n",
    "    \n",
    "        if (np.sqrt(np.dot(r,r))>1./resolmax):\n",
    "            continue # outer resolution limit\n",
    "        if (np.sqrt(np.dot(r,r))<1./resolmin):\n",
    "            continue # inner resolution limit\n",
    "    \n",
    "        # rotate  \n",
    "        # NB: the term \"-180.\" (found by trial&error) seems to make it match dials.rs_mapper\n",
    "        phi=(starting_angle+oscillation_range*phi -180.)/180.*np.pi\n",
    "    \n",
    "        rot_r=rodrigues(r,phi,rot_ax)\n",
    "    \n",
    "        #rot_r=100.*rot_r + 100./resolmax  # ! transform to match dials.rs_mapper\n",
    "    \n",
    "        spots.append(np.hstack([rot_r,[intensity],[ih,ik,il]]))\n",
    "        \n",
    "    return np.asarray(spots)\n",
    "\n",
    "\n",
    "def checkcell(outtext):\n",
    "    from ase.cell import Cell\n",
    "    if int(outtext[2].split()[1])>0:\n",
    "        fullcell=np.asarray(list(map(np.float,(outtext[4]+\" \"+outtext[5]+\" \"+outtext[6]).split()))).reshape(3,3).T\n",
    "        pdbcell=np.hstack([Cell(fullcell).lengths(), Cell(fullcell).angles()])\n",
    "        \n",
    "        return (fullcell,pdbcell)\n",
    "    else:\n",
    "        return [] "
   ]
  },
  {
   "cell_type": "markdown",
   "id": "9fdf26c7-2d88-4483-8be6-9b8d687eba82",
   "metadata": {},
   "source": [
    "# RUN ON SOME TEST FRAMES"
   ]
  },
  {
   "cell_type": "code",
   "execution_count": 37,
   "id": "52c09ef7-d56f-47e2-b2e0-55ccfd5b51c3",
   "metadata": {},
   "outputs": [
    {
     "name": "stderr",
     "output_type": "stream",
     "text": [
      "100%|██████████| 10/10 [00:02<00:00,  3.87it/s]\n"
     ]
    }
   ],
   "source": [
    "cells=[]\n",
    "pdbcells=[]\n",
    "for FR in tqdm(indexableframes[:10]):\n",
    "    STROUT=\"\"\n",
    "    STROUT+=\"{} 0 0 0 {} 0 0 0 {}\\n\".format(77.9,77.9,37.15)\n",
    "\n",
    "    # GET THE PEAKS --- SUBSTITUTE THIS WITH YOUR SPOTFINDER!\n",
    "    peaks=np.asarray([ll for ll in parsed[FR]['predicted_reflections'][:,[0,1,2]] if ll[-1]>0.5])\n",
    "    #peaks=parsed[FR]['peaks']\n",
    "    \n",
    "    sp3d =  map_3D(   \n",
    "          peaks,\n",
    "          oscillation_range=0.0, # this is to not rotate the spots\n",
    "          wavelength=0.999872983,\n",
    "          nx=2068,      \n",
    "          ny=2164,\n",
    "          qx=0.075,\n",
    "          qy=0.075,\n",
    "          orgx=1133.66,\n",
    "          orgy=1171.89,\n",
    "          det_dist=170,\n",
    "    )[:,:3]\n",
    "    \n",
    "    for pk in sp3d:\n",
    "        STROUT+=\"{:.8f} {:.8f} {:.8f}\\n\".format(*pk)\n",
    "        \n",
    "    # open a tmp text file\n",
    "    filename=\"{}\".format(FR)+\".3D\"\n",
    "    text_file = open(filename, \"w\")\n",
    "    # write string to file\n",
    "    _ = text_file.write(STROUT)\n",
    "    # close file\n",
    "    text_file.close()\n",
    "    \n",
    "    # try to index the points\n",
    "    import subprocess\n",
    "    \n",
    "    # call xgandalf\n",
    "    proc = subprocess.Popen(\"/das/home/gasparotto_p/bin/xgandalfHCS {}\".format(filename), stdout=subprocess.PIPE, shell=True)\n",
    "    (out, err) = proc.communicate()\n",
    "    out=out.decode('UTF-8')\n",
    "    \n",
    "    # interpret the output\n",
    "    tmpcell=checkcell(out.split(\"\\n\"))\n",
    "    \n",
    "    if len(tmpcell)==2:\n",
    "        cells.append(tmpcell[0])\n",
    "        pdbcells.append(tmpcell[1])\n",
    "    else:\n",
    "        cells.append([])\n",
    "        pdbcells.append([])\n",
    "    \n",
    "    # remove the tmp file\n",
    "    subprocess.call(['rm','-r',filename])"
   ]
  },
  {
   "cell_type": "markdown",
   "id": "eae5eada-f817-4318-a103-e25aad78e095",
   "metadata": {},
   "source": [
    "# CHECK THE INDEXED CELLS"
   ]
  },
  {
   "cell_type": "code",
   "execution_count": 38,
   "id": "a28ef0af-0adf-419e-abd2-3d9380a1d9ff",
   "metadata": {},
   "outputs": [
    {
     "data": {
      "text/plain": [
       "[array([37.21755345, 77.83706629, 77.875633  , 89.65717547, 89.98263167,\n",
       "        89.01073151]),\n",
       " array([37.1697798 , 77.83006097, 77.86804838, 89.63700287, 91.24650377,\n",
       "        90.10288093]),\n",
       " array([37.19044117, 77.89307643, 77.90931532, 90.3405341 , 89.72301129,\n",
       "        91.17176594]),\n",
       " array([37.15305227, 77.69003702, 77.73151602, 90.10653313, 89.89488337,\n",
       "        89.267012  ]),\n",
       " array([37.25311685, 77.78828713, 77.87348933, 89.67781444, 89.25246641,\n",
       "        90.16363532]),\n",
       " array([37.32084   , 77.84891016, 77.96947911, 90.30622277, 90.98858868,\n",
       "        90.10492903]),\n",
       " array([37.18456255, 77.90515696, 78.06325324, 90.29742224, 91.11773223,\n",
       "        89.99018017]),\n",
       " array([37.1680865 , 77.85660676, 77.92937617, 90.46016602, 89.84221936,\n",
       "        91.17919951]),\n",
       " array([37.1859587 , 77.82880548, 77.96150981, 89.62188156, 89.75434944,\n",
       "        88.8392701 ]),\n",
       " array([37.21086196, 77.78006118, 77.93135961, 90.27155847, 89.82472278,\n",
       "        91.18278641])]"
      ]
     },
     "execution_count": 38,
     "metadata": {},
     "output_type": "execute_result"
    }
   ],
   "source": [
    "pdbcells"
   ]
  },
  {
   "cell_type": "code",
   "execution_count": null,
   "id": "09c7309a-ff04-4687-8416-2dc2a39619ac",
   "metadata": {},
   "outputs": [],
   "source": []
  }
 ],
 "metadata": {
  "kernelspec": {
   "display_name": "Python [conda env:testkeras]",
   "language": "python",
   "name": "conda-env-testkeras-py"
  },
  "language_info": {
   "codemirror_mode": {
    "name": "ipython",
    "version": 3
   },
   "file_extension": ".py",
   "mimetype": "text/x-python",
   "name": "python",
   "nbconvert_exporter": "python",
   "pygments_lexer": "ipython3",
   "version": "3.8.13"
  }
 },
 "nbformat": 4,
 "nbformat_minor": 5
}
